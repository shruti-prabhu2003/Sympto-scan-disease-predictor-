{
 "cells": [
  {
   "cell_type": "code",
   "execution_count": 6,
   "id": "5df3dd34",
   "metadata": {},
   "outputs": [],
   "source": [
    "import numpy as np\n",
    "import pandas as pd\n",
    "\n",
    "import matplotlib.pyplot as plt\n",
    "import seaborn as sns"
   ]
  },
  {
   "cell_type": "code",
   "execution_count": 7,
   "id": "135134c0",
   "metadata": {},
   "outputs": [],
   "source": [
    "df = pd.read_csv('breast_cancer.csv')"
   ]
  },
  {
   "cell_type": "code",
   "execution_count": 8,
   "id": "e35e9c08",
   "metadata": {},
   "outputs": [],
   "source": [
    "df.head()"
   ]
  },
  {
   "cell_type": "code",
   "execution_count": 9,
   "id": "cf42b2fb",
   "metadata": {},
   "outputs": [],
   "source": [
    "df.shape"
   ]
  },
  {
   "cell_type": "code",
   "execution_count": 10,
   "id": "ec95ede6",
   "metadata": {},
   "outputs": [],
   "source": [
    "df.isnull().sum()"
   ]
  },
  {
   "cell_type": "code",
   "execution_count": 11,
   "id": "e6006521",
   "metadata": {},
   "outputs": [],
   "source": [
    "df = df.drop(['id', 'Unnamed: 32'], axis=1)"
   ]
  },
  {
   "cell_type": "code",
   "execution_count": null,
   "id": "c860988f",
   "metadata": {},
   "outputs": [],
   "source": [
    "df.head()"
   ]
  },
  {
   "cell_type": "code",
   "execution_count": null,
   "id": "e81041e3",
   "metadata": {},
   "outputs": [],
   "source": [
    "df.select_dtypes(exclude='number')"
   ]
  },
  {
   "cell_type": "code",
   "execution_count": null,
   "id": "ee89a38d",
   "metadata": {},
   "outputs": [],
   "source": [
    "def convert(data):\n",
    "    if data == 'M':\n",
    "        return 1\n",
    "    else:\n",
    "        return 0\n",
    "df['diagnosis'] = df['diagnosis'].apply(convert)"
   ]
  },
  {
   "cell_type": "code",
   "execution_count": null,
   "id": "9d5f0340",
   "metadata": {},
   "outputs": [],
   "source": [
    "df.head()"
   ]
  },
  {
   "cell_type": "code",
   "execution_count": null,
   "id": "9350692b",
   "metadata": {},
   "outputs": [],
   "source": [
    "plt.figure(figsize=(6, 4), dpi=150)\n",
    "sns.countplot(x=df['diagnosis'])"
   ]
  },
  {
   "cell_type": "code",
   "execution_count": null,
   "id": "8cfc0ec9",
   "metadata": {},
   "outputs": [],
   "source": [
    "df.corr()['diagnosis'].sort_values()"
   ]
  },
  {
   "cell_type": "code",
   "execution_count": null,
   "id": "85e7e331",
   "metadata": {},
   "outputs": [],
   "source": [
    "plt.figure(figsize=(6, 4), dpi=150)\n",
    "sns.scatterplot(x=df['concavity_worst'], y=df['perimeter_worst'], hue=df['diagnosis'])"
   ]
  },
  {
   "cell_type": "code",
   "execution_count": null,
   "id": "11bb962f",
   "metadata": {},
   "outputs": [],
   "source": [
    "imp_features = ['perimeter_mean', 'radius_worst', 'concave points_mean', 'perimeter_worst', 'concave points_worst', 'diagnosis']"
   ]
  },
  {
   "cell_type": "code",
   "execution_count": null,
   "id": "87498c3e",
   "metadata": {},
   "outputs": [],
   "source": [
    "sns.pairplot(df[imp_features], hue='diagnosis')"
   ]
  },
  {
   "cell_type": "code",
   "execution_count": null,
   "id": "5b342a12",
   "metadata": {},
   "outputs": [],
   "source": []
  },
  {
   "cell_type": "code",
   "execution_count": null,
   "id": "29e62243",
   "metadata": {},
   "outputs": [],
   "source": [
    "from sklearn.model_selection import train_test_split, GridSearchCV\n",
    "from sklearn.ensemble import AdaBoostClassifier\n",
    "from sklearn.metrics import accuracy_score, confusion_matrix, ConfusionMatrixDisplay\n",
    "from sklearn.tree import DecisionTreeClassifier"
   ]
  },
  {
   "cell_type": "code",
   "execution_count": null,
   "id": "2e949a83",
   "metadata": {},
   "outputs": [],
   "source": [
    "X = df.drop('diagnosis', axis=1)\n",
    "y = df['diagnosis']"
   ]
  },
  {
   "cell_type": "code",
   "execution_count": null,
   "id": "dbef13c9",
   "metadata": {},
   "outputs": [],
   "source": [
    "X_train, X_test, y_train, y_test = train_test_split(X, y, test_size=0.25, random_state=101)"
   ]
  },
  {
   "cell_type": "code",
   "execution_count": null,
   "id": "48732562",
   "metadata": {},
   "outputs": [],
   "source": [
    "model1 = DecisionTreeClassifier()"
   ]
  },
  {
   "cell_type": "code",
   "execution_count": null,
   "id": "1883566b",
   "metadata": {},
   "outputs": [],
   "source": [
    "param_grid = {'max_features': ['auto', 'sqrt', 'log2'],\n",
    "              'max_depth' : [6, 7, 8]}\n",
    "\n",
    "grid = GridSearchCV(model1, param_grid)"
   ]
  },
  {
   "cell_type": "code",
   "execution_count": null,
   "id": "9c3d7e52",
   "metadata": {},
   "outputs": [],
   "source": [
    "grid.fit(X_train, y_train)"
   ]
  },
  {
   "cell_type": "code",
   "execution_count": null,
   "id": "38075dd7",
   "metadata": {},
   "outputs": [],
   "source": [
    "grid.best_params_"
   ]
  },
  {
   "cell_type": "code",
   "execution_count": null,
   "id": "8cf5c3de",
   "metadata": {},
   "outputs": [],
   "source": [
    "model2 = DecisionTreeClassifier(max_depth=7, max_features='auto')"
   ]
  },
  {
   "cell_type": "code",
   "execution_count": null,
   "id": "64645fe7",
   "metadata": {},
   "outputs": [],
   "source": [
    "model2.fit(X_train, y_train)"
   ]
  },
  {
   "cell_type": "code",
   "execution_count": null,
   "id": "9b86ac90",
   "metadata": {},
   "outputs": [],
   "source": []
  },
  {
   "cell_type": "code",
   "execution_count": null,
   "id": "2eff3083",
   "metadata": {},
   "outputs": [],
   "source": [
    "y_pred = grid.predict(X_test)"
   ]
  },
  {
   "cell_type": "code",
   "execution_count": null,
   "id": "f19c942f",
   "metadata": {},
   "outputs": [],
   "source": [
    "accuracy_score(y_test, y_pred)"
   ]
  },
  {
   "cell_type": "code",
   "execution_count": null,
   "id": "92ba02ab",
   "metadata": {},
   "outputs": [],
   "source": []
  },
  {
   "cell_type": "code",
   "execution_count": null,
   "id": "634bf41f",
   "metadata": {},
   "outputs": [],
   "source": [
    "model3 = AdaBoostClassifier(n_estimators=9)"
   ]
  },
  {
   "cell_type": "code",
   "execution_count": null,
   "id": "bb89d71a",
   "metadata": {},
   "outputs": [],
   "source": [
    "model3.fit(X_train, y_train)"
   ]
  },
  {
   "cell_type": "code",
   "execution_count": null,
   "id": "cd558689",
   "metadata": {},
   "outputs": [],
   "source": [
    "model3.feature_importances_"
   ]
  },
  {
   "cell_type": "code",
   "execution_count": null,
   "id": "861dd6a9",
   "metadata": {},
   "outputs": [],
   "source": [
    "y_pred = model3.predict(X_test)"
   ]
  },
  {
   "cell_type": "code",
   "execution_count": null,
   "id": "b8140ad5",
   "metadata": {},
   "outputs": [],
   "source": [
    "accuracy_score(y_test, y_pred)"
   ]
  },
  {
   "cell_type": "code",
   "execution_count": null,
   "id": "adc7c7e4",
   "metadata": {},
   "outputs": [],
   "source": [
    "df_imp_features = pd.DataFrame(index=X.columns, data=model3.feature_importances_, columns=['Importance'])"
   ]
  },
  {
   "cell_type": "code",
   "execution_count": null,
   "id": "001bd4b5",
   "metadata": {},
   "outputs": [],
   "source": [
    "df_imp_features['Importance'] = round(df_imp_features['Importance'], 2)"
   ]
  },
  {
   "cell_type": "code",
   "execution_count": null,
   "id": "dfb907cb",
   "metadata": {},
   "outputs": [],
   "source": [
    "dff = df_imp_features[df_imp_features['Importance'] != 0].sort_values('Importance')"
   ]
  },
  {
   "cell_type": "code",
   "execution_count": null,
   "id": "f33e73f0",
   "metadata": {},
   "outputs": [],
   "source": [
    "dff"
   ]
  },
  {
   "cell_type": "code",
   "execution_count": null,
   "id": "bc6e351c",
   "metadata": {},
   "outputs": [],
   "source": [
    "plt.figure(figsize=(6, 6), dpi=150)\n",
    "sns.barplot(x=dff.index, y=dff['Importance'])\n",
    "plt.xticks(rotation=90);"
   ]
  },
  {
   "cell_type": "code",
   "execution_count": null,
   "id": "1dd51c28",
   "metadata": {},
   "outputs": [],
   "source": [
    "df[['texture_mean', 'compactness_se', 'texture_worst', 'area_worst',\n",
    "       'smoothness_worst', 'concavity_worst', 'concave points_worst',\n",
    "       'area_se']].describe()"
   ]
  },
  {
   "cell_type": "code",
   "execution_count": null,
   "id": "eaff1f2b",
   "metadata": {},
   "outputs": [],
   "source": [
    "# Loaded model \n",
    "m = {}\n",
    "for i in X.columns:\n",
    "    m[i] = 0\n",
    "\n",
    "texture_mean = float(input(\"Enter the texture mean range(9.71-39.28): \"))\n",
    "m['texture_mean'] = texture_mean\n",
    "\n",
    "compactness_se = float(input(\"Enter the compactness_se range(0.002-0.135): \"))\n",
    "m['compactness_se'] = compactness_se\n",
    "\n",
    "texture_worst = float(input(\"Enter the texture_worst range(12.02-49.54): \"))\n",
    "m['texture_worst'] = texture_worst\n",
    "\n",
    "area_worst = float(input(\"Enter the area_worst range(185.2-4254.0): \"))\n",
    "m['area_worst'] = area_worst\n",
    "\n",
    "smoothness_worst = float(input(\"Enter the smoothness_worst range(0.07-0.22): \"))\n",
    "m['smoothness_worst'] =smoothness_worst\n",
    "\n",
    "concavity_worst = float(input(\"Enter the concavity_worst range(0.00-1.25): \"))\n",
    "m['concavity_worst'] = concavity_worst\n",
    "\n",
    "concave_points_worst = float(input(\"Enter the concave points_worst range(0.00-0.29): \"))\n",
    "m['concave points_worst'] = concave_points_worst\n",
    "\n",
    "area_se = float(input(\"Enter the area_se range(6.80-542.20): \"))\n",
    "m['area_se'] = area_se\n",
    "\n",
    "\n",
    "predictors = [list(m.values())]\n",
    "outcome = model3.predict(predictors)[0]\n",
    "prob = model3.predict_proba(predictors)[0]\n",
    "\n",
    "if outcome == 0:\n",
    "    print(\"You don't have Breast-Cancer: \")\n",
    "    print(f\"Probablity of the outcome is {round(prob[0]*100, 2)}%. \")\n",
    "else:\n",
    "    print(\"You have Breast-Cancer: \")\n",
    "    print(f\"Probablity of the outcome is {round(prob[1]*100, 2)}%. \")\n",
    "    \n",
    "if outcome == 1 and prob[1] > 0.80:\n",
    "    print(f\"Consult Doctor Immediately. \")\n",
    "\n",
    "\n"
   ]
  },
  {
   "cell_type": "code",
   "execution_count": null,
   "id": "9f8ee17b",
   "metadata": {},
   "outputs": [],
   "source": [
    "from joblib import dump, load"
   ]
  },
  {
   "cell_type": "code",
   "execution_count": null,
   "id": "b8d4b261",
   "metadata": {},
   "outputs": [],
   "source": [
    "dump(model3, \"Breast-Cancer.joblib\")"
   ]
  },
  {
   "cell_type": "code",
   "execution_count": null,
   "id": "d0753063",
   "metadata": {},
   "outputs": [],
   "source": []
  }
 ],
 "metadata": {
  "kernelspec": {
   "display_name": "Python 3 (ipykernel)",
   "language": "python",
   "name": "python3"
  },
  "language_info": {
   "codemirror_mode": {
    "name": "ipython",
    "version": 3
   },
   "file_extension": ".py",
   "mimetype": "text/x-python",
   "name": "python",
   "nbconvert_exporter": "python",
   "pygments_lexer": "ipython3",
   "version": "3.10.0"
  }
 },
 "nbformat": 4,
 "nbformat_minor": 5
}
